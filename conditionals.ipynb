{
 "cells": [
  {
   "attachments": {},
   "cell_type": "markdown",
   "metadata": {},
   "source": [
    "1. Write a program that prompts the user for a string and checks whether the string is a palindrome (i.e., the string reads the same forward and backward)."
   ]
  },
  {
   "cell_type": "code",
   "execution_count": 34,
   "metadata": {},
   "outputs": [
    {
     "name": "stdout",
     "output_type": "stream",
     "text": [
      "NurseS Run is a palindrome.\n"
     ]
    }
   ],
   "source": [
    "def isPalindrome(s):\n",
    "    # Converts uppercase letters to lowercase letters\n",
    "    s = s.lower()\n",
    "    # Removes spaces in phrase\n",
    "    s = s.replace(' ', '')\n",
    "    return s == s[::-1]\n",
    "\n",
    "# Get the phrase from the user\n",
    "phrase = input('Please enter a word or phrase:\\n')\n",
    "if isPalindrome(phrase):\n",
    "    print('{0} is a palindrome.'.format(phrase))\n",
    "else:\n",
    "    print('{0} is not a palindrome.'.format(phrase))"
   ]
  },
  {
   "attachments": {},
   "cell_type": "markdown",
   "metadata": {},
   "source": [
    "2. Write a program that takes in a list of integers and returns the sum of all even numbers in the list."
   ]
  },
  {
   "cell_type": "code",
   "execution_count": 26,
   "metadata": {},
   "outputs": [
    {
     "name": "stdout",
     "output_type": "stream",
     "text": [
      "The sum of the even numbers in the given list is 4.\n"
     ]
    }
   ],
   "source": [
    "lst = [3,5,-6,8,-2,3,4]    \n",
    "\n",
    "# Computes sum of even numbers in inputted list of numbers\n",
    "def evenSum(lst):\n",
    "    sum = 0\n",
    "    for num in lst:\n",
    "        if num % 2 == 0:\n",
    "            sum += num\n",
    "        else:\n",
    "            continue\n",
    "    print('The sum of the even numbers in the given list is {0}.'.format(sum))\n",
    "\n",
    "evenSum(lst)"
   ]
  },
  {
   "attachments": {},
   "cell_type": "markdown",
   "metadata": {},
   "source": [
    "3. Write a program that prompts the user for their age and checks whether they are old enough to vote (i.e., 18 years old or older)."
   ]
  },
  {
   "cell_type": "code",
   "execution_count": 29,
   "metadata": {},
   "outputs": [
    {
     "name": "stdout",
     "output_type": "stream",
     "text": [
      "Only numbers are allowed.\n",
      "Only numbers are allowed.\n",
      "Only numbers are allowed.\n",
      "You are old enough to vote.\n"
     ]
    }
   ],
   "source": [
    "while True:\n",
    "    try:\n",
    "        # If input is a decimal, it, effectively, rounds down to the nearest whole number\n",
    "        age = int(input(\"Please enter your age:\\n\"))\n",
    "        if age < 0:\n",
    "            print('Only positive numbers are allowed.')\n",
    "        else:\n",
    "            break\n",
    "    except ValueError:\n",
    "            print('Only numbers are allowed.')\n",
    "\n",
    "if age >= 18:\n",
    "     print('You are old enough to vote.')\n",
    "else:\n",
    "    print('You are not old enough to vote.')"
   ]
  },
  {
   "attachments": {},
   "cell_type": "markdown",
   "metadata": {},
   "source": [
    "4. Write a program that takes in a list of integers and returns the largest number in the list that is also divisible by 3."
   ]
  },
  {
   "cell_type": "code",
   "execution_count": 36,
   "metadata": {},
   "outputs": [
    {
     "name": "stdout",
     "output_type": "stream",
     "text": [
      "The largest number in the given list that is also divisible by three is 243.\n"
     ]
    }
   ],
   "source": [
    "lst = [3,5,-16,18,24,243,48]    \n",
    "\n",
    "# Determines which numbers in the list are divisible by three and computes the maximum of those numbers\n",
    "def largestNum(lst):\n",
    "    workList = []\n",
    "    for num in lst:\n",
    "        if num % 3 == 0:\n",
    "            workList.append(num)\n",
    "\n",
    "    print('The largest number in the given list that is also divisible by three is {0}.'.format(max(workList)))\n",
    "\n",
    "largestNum(lst)"
   ]
  },
  {
   "attachments": {},
   "cell_type": "markdown",
   "metadata": {},
   "source": [
    "5. Write a program that prompts the user for a number and checks whether the number is a prime number (i.e., only divisible by 1 and itself)."
   ]
  },
  {
   "cell_type": "code",
   "execution_count": 51,
   "metadata": {},
   "outputs": [
    {
     "name": "stdout",
     "output_type": "stream",
     "text": [
      "Please enter a valid number.\n",
      "Please enter a valid number.\n",
      "Please enter a valid number.\n",
      "Please enter a valid number.\n",
      "2 is a prime number.\n"
     ]
    }
   ],
   "source": [
    "while True:\n",
    "    try:\n",
    "        num = int(input(\"Please enter a number greater than 1:\\n\"))\n",
    "        if num <= 1:\n",
    "            print('Please enter a number greater than 1.')\n",
    "        else:\n",
    "            break\n",
    "    except ValueError:\n",
    "        print('Please enter a valid number.')\n",
    "\n",
    "isComposite = False\n",
    "\n",
    "if num > 1:\n",
    "    for i in range(2, num):\n",
    "        if num % i == 0:\n",
    "            isComposite = True\n",
    "            break\n",
    "    \n",
    "if isComposite:\n",
    "    print('{0} is not a prime number.'.format(num))\n",
    "else:\n",
    "    print('{0} is a prime number.'.format(num))\n",
    "        "
   ]
  }
 ],
 "metadata": {
  "kernelspec": {
   "display_name": "Python 3",
   "language": "python",
   "name": "python3"
  },
  "language_info": {
   "codemirror_mode": {
    "name": "ipython",
    "version": 3
   },
   "file_extension": ".py",
   "mimetype": "text/x-python",
   "name": "python",
   "nbconvert_exporter": "python",
   "pygments_lexer": "ipython3",
   "version": "3.9.13"
  },
  "orig_nbformat": 4,
  "vscode": {
   "interpreter": {
    "hash": "f7a5be651532581cb44625d52e18aa1d390cab54bc6b51099d8c30bea9b68219"
   }
  }
 },
 "nbformat": 4,
 "nbformat_minor": 2
}
