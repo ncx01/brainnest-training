{
 "cells": [
  {
   "attachments": {},
   "cell_type": "markdown",
   "metadata": {},
   "source": [
    "1. Given two sets A and B, write a function to return the symmetric difference between them as a new set. The symmetric difference is the set of elements that are in either A or B, but not in both."
   ]
  },
  {
   "cell_type": "code",
   "execution_count": null,
   "metadata": {},
   "outputs": [],
   "source": [
    "fruits = {\"apple\", \"banana\", \"cherry\", \"peach\"}\n",
    "fruits1 = {\"apple\", \"orange\", \"cherry\"}\n",
    "\n",
    "def symmetricDifference(set1, set2):\n",
    "    return set1.symmetric_difference(set2)\n",
    "\n",
    "print(symmetricDifference(fruits, fruits1))"
   ]
  },
  {
   "attachments": {},
   "cell_type": "markdown",
   "metadata": {},
   "source": [
    "2. Given a list of numbers, write a function to return a set of all prime numbers from the list."
   ]
  },
  {
   "cell_type": "code",
   "execution_count": null,
   "metadata": {},
   "outputs": [],
   "source": [
    "numbers = [1, 2, 4, 5, 7, 9, 11]\n",
    "\n",
    "def Primes(numberList: list):\n",
    "    primeList = []\n",
    "    for n in numberList:  \n",
    "        # Store number n in case we need to append it to primeList later on  \n",
    "        originalNum = n\n",
    "\n",
    "        factorList = []\n",
    "        # Keep dividing by 2 until n is not divisible by 2 anymore\n",
    "        while n % 2 == 0:\n",
    "            factorList.append(2)    # If 2 is a factor, add 2 to the list of factors\n",
    "            n //= 2                 # Divide n by 2\n",
    "        f = 3\n",
    "        while f * f <= n:           # While the square of a possible factor is less than n...\n",
    "            if n % f == 0:          # If the prime f divides n without remainder, it is a factor\n",
    "                factorList.append(f)\n",
    "                n //= f             # Divide n by f\n",
    "                \n",
    "            # Increment the possible factor by 2 to avoid all even numbers since these cannot be prime factors,\n",
    "            # reducing computation time significantly\n",
    "            else:                   \n",
    "                f += 2\n",
    "        if n != 1: factorList.append(n)\n",
    "        \n",
    "        if len(factorList ) == 1:\n",
    "            primeList.append(originalNum)\n",
    "\n",
    "    return set(primeList)\n",
    "\n",
    "print(Primes(numbers))"
   ]
  },
  {
   "attachments": {},
   "cell_type": "markdown",
   "metadata": {},
   "source": [
    "3. Given a list of words, write a function to return a set of all anagrams in the list."
   ]
  },
  {
   "cell_type": "code",
   "execution_count": null,
   "metadata": {},
   "outputs": [],
   "source": [
    "wordList = ['a gentleman', 'elegant man', 'Clint Eastwood', 'east', 'old west action',  'man', 'west', 'action']\n",
    "\n",
    "def anagrams(wordList: list):\n",
    "\n",
    "    anagramSet = set()\n",
    "\n",
    "    for word1 in wordList:\n",
    "        for word2 in wordList:\n",
    "            testWord1 = word1.replace(\" \", \"\").lower()\n",
    "            testWord2 = word2.replace(\" \", \"\").lower()\n",
    "            if sorted(testWord1) == sorted(testWord2) and word1 != word2:\n",
    "                anagramSet.add(word2)\n",
    "\n",
    "    return anagramSet\n",
    "\n",
    "print(anagrams(wordList))"
   ]
  },
  {
   "attachments": {},
   "cell_type": "markdown",
   "metadata": {},
   "source": [
    "4. Given a list of sets, write a function to return the Cartesian product of all sets in the list."
   ]
  },
  {
   "cell_type": "code",
   "execution_count": 27,
   "metadata": {},
   "outputs": [
    {
     "name": "stdout",
     "output_type": "stream",
     "text": [
      "[(1, 'y', 4), (1, 'y', 5), (1, 'y', 6), (1, 'x', 4), (1, 'x', 5), (1, 'x', 6), (1, 'z', 4), (1, 'z', 5), (1, 'z', 6), (2, 'y', 4), (2, 'y', 5), (2, 'y', 6), (2, 'x', 4), (2, 'x', 5), (2, 'x', 6), (2, 'z', 4), (2, 'z', 5), (2, 'z', 6), (3, 'y', 4), (3, 'y', 5), (3, 'y', 6), (3, 'x', 4), (3, 'x', 5), (3, 'x', 6), (3, 'z', 4), (3, 'z', 5), (3, 'z', 6)]\n"
     ]
    }
   ],
   "source": [
    "from itertools import product\n",
    "\n",
    "listOfSets = [{1, 2, 3}, {'x', 'y', 'z'}, {4, 5, 6}]\n",
    "\n",
    "def cartesianProduct(listOfSets):\n",
    "    return list(product(*listOfSets))\n",
    "\n",
    "print(cartesianProduct(listOfSets))"
   ]
  }
 ],
 "metadata": {
  "kernelspec": {
   "display_name": "Python 3",
   "language": "python",
   "name": "python3"
  },
  "language_info": {
   "codemirror_mode": {
    "name": "ipython",
    "version": 3
   },
   "file_extension": ".py",
   "mimetype": "text/x-python",
   "name": "python",
   "nbconvert_exporter": "python",
   "pygments_lexer": "ipython3",
   "version": "3.9.13"
  },
  "orig_nbformat": 4,
  "vscode": {
   "interpreter": {
    "hash": "f7a5be651532581cb44625d52e18aa1d390cab54bc6b51099d8c30bea9b68219"
   }
  }
 },
 "nbformat": 4,
 "nbformat_minor": 2
}
