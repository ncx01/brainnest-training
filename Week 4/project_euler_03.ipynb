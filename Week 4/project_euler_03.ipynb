{
 "cells": [
  {
   "attachments": {},
   "cell_type": "markdown",
   "metadata": {},
   "source": [
    "1. \n",
    "\n",
    "In the United Kingdom the currency is made up of pound (£) and pence (p). There are eight coins in general circulation:\n",
    "\n",
    "    1p, 2p, 5p, 10p, 20p, 50p, £1 (100p), and £2 (200p).\n",
    "\n",
    "It is possible to make £2 in the following way:\n",
    "\n",
    "    1×£1 + 1×50p + 2×20p + 1×5p + 1×2p + 3×1p\n",
    "\n",
    "How many different ways can £2 be made using any number of coins?\n"
   ]
  },
  {
   "cell_type": "code",
   "execution_count": null,
   "metadata": {},
   "outputs": [],
   "source": [
    "def ways():\n",
    "\tt = 200\n",
    "\tr_ways = [1] + [0] * t\n",
    "\tfor coin in [1, 2, 5, 10, 20, 50, 100, 200]:\n",
    "\t\tfor i in range(len(r_ways) - coin):\n",
    "\t\t\tr_ways[i + coin] += r_ways[i]\n",
    "\treturn str(r_ways[-1])\n",
    "\n",
    "print(ways())"
   ]
  },
  {
   "cell_type": "code",
   "execution_count": null,
   "metadata": {},
   "outputs": [],
   "source": [
    "def recurse(sum):\n",
    "    numberOfWays = 0\n",
    "    for i in range(startingIndex, -1, -1):\n",
    "        if sum < coins[i]:\n",
    "            continue\n",
    "        else:\n",
    "            sum -= coins[i] \n",
    "\n",
    "            if sum == 0:\n",
    "                numberOfWays += 1\n",
    "                sum += coins[i]\n",
    "\n",
    "            else:\n",
    "                numberOfWays += recurse(sum)\n",
    "                sum += coins[i]\n",
    "\n",
    "    return numberOfWays\n",
    "\n",
    "numberofWays = 0\n",
    "coins = [1, 2, 5]\n",
    "startingIndex = len(coins) - 1\n",
    "\n",
    "for i in range(startingIndex, -1, -1):\n",
    "    sum = coins[-1]\n",
    "    sum -= coins[i]\n",
    "\n",
    "    if sum == 0:\n",
    "        numberofWays += 1\n",
    "        sum += coins[i]\n",
    "\n",
    "    elif sum < 0:\n",
    "        sum += coins[i]\n",
    "\n",
    "    else:\n",
    "        numberofWays += recurse(sum)\n",
    "\n",
    "print(numberofWays) # Computation time much longer than 3 minutes probably"
   ]
  },
  {
   "attachments": {},
   "cell_type": "markdown",
   "metadata": {},
   "source": [
    "2. \n",
    "\n",
    "We shall say that an n-digit number is pandigital if it makes use of all the digits 1 to n exactly once; for example, the 5-digit number, 15234, is 1 through 5 pandigital.\n",
    "\n",
    "The product 7254 is unusual, as the identity, 39 × 186 = 7254, containing multiplicand, multiplier, and product is 1 through 9 pandigital.\n",
    "\n",
    "Find the sum of all products whose multiplicand/multiplier/product identity can be written as a 1 through 9 pandigital.\n",
    "HINT: Some products can be obtained in more than one way so be sure to only include it once in your sum.\n"
   ]
  },
  {
   "cell_type": "code",
   "execution_count": 6,
   "metadata": {},
   "outputs": [
    {
     "name": "stdout",
     "output_type": "stream",
     "text": [
      "4 x 1738 = 6952\n",
      "4 x 1963 = 7852\n",
      "12 x 483 = 5796\n",
      "18 x 297 = 5346\n",
      "27 x 198 = 5346\n",
      "28 x 157 = 4396\n",
      "39 x 186 = 7254\n",
      "42 x 138 = 5796\n",
      "48 x 159 = 7632\n",
      "The sum of all products whose multiplicand/multiplier/product identity can be written as a 1 through 9 pandigital is 56370.\n"
     ]
    }
   ],
   "source": [
    "from itertools import product\n",
    "\n",
    "def allUnique(lst):\n",
    "    seen = set()\n",
    "    return not any(i in seen or seen.add(i) for i in lst)\n",
    "\n",
    "def productFormer(multiplicandList, multiplierList):\n",
    "    for num1 in multiplicandList:\n",
    "        multiplicand = num1\n",
    "        for num2 in multiplierList:\n",
    "            multiplier = num2\n",
    "\n",
    "            product = multiplicand * multiplier\n",
    "\n",
    "            pandigitalProductDigits = list(str(multiplicand) + str(multiplier) + str(product))\n",
    "            digitNum = len(pandigitalProductDigits)\n",
    "\n",
    "            # Since there could be a case where all elements are unique but digitNum != 9\n",
    "            if allUnique(pandigitalProductDigits) and digitNum == 9 and '0' not in pandigitalProductDigits:\n",
    "                pandigitalProducts.append(product)\n",
    "                print(f'{multiplicand} x {multiplier} = ' + str(product))\n",
    "\n",
    "# For the multiplicand/multiplier/product identity to be written as a 1 through 9 pandigital,\n",
    "# the multiplicand and multiplier must have a maximum total of 5 digits between them as we end up with more than 9 digits throughout the identity otherwise\n",
    "numList = [1, 2, 3, 4, 5, 6, 7, 8, 9]\n",
    "twoDigitPerms = [int(''.join(map(str, idx))) for idx in product(numList, repeat=2)]     # Outputs list of tuples of length 2 (with repetition)\n",
    "threeDigitPerms = [int(''.join(map(str, idx))) for idx in product(numList, repeat=3)]\n",
    "fourDigitPerms = [int(''.join(map(str, idx))) for idx in product(numList, repeat=4)]\n",
    "\n",
    "pandigitalProducts = []\n",
    "\n",
    "productFormer(numList, fourDigitPerms)\n",
    "productFormer(twoDigitPerms, threeDigitPerms)\n",
    "\n",
    "sum = sum(pandigitalProducts)\n",
    "\n",
    "print(f'The sum of all products whose multiplicand/multiplier/product identity can be written as a 1 through 9 pandigital is {sum}.')"
   ]
  },
  {
   "attachments": {},
   "cell_type": "markdown",
   "metadata": {},
   "source": [
    "3. \n",
    "\n",
    "The fraction 49/98 is a curious fraction, as an inexperienced mathematician in attempting to simplify it may incorrectly believe that 49/98 = 4/8, which is correct, is obtained by cancelling the 9s.\n",
    "\n",
    "We shall consider fractions like, 30/50 = 3/5, to be trivial examples.\n",
    "\n",
    "There are exactly four non-trivial examples of this type of fraction, less than one in value, and containing two digits in the numerator and denominator.\n",
    "\n",
    "If the product of these four fractions is given in its lowest common terms, find the value of the denominator.\n"
   ]
  },
  {
   "cell_type": "code",
   "execution_count": 25,
   "metadata": {},
   "outputs": [
    {
     "name": "stdout",
     "output_type": "stream",
     "text": [
      "The four fractions are:\n",
      "16/64\n",
      "19/95\n",
      "26/65\n",
      "49/98\n",
      "The value of the denominator for the product of these four fractions in its lowest common terms is 100.\n"
     ]
    }
   ],
   "source": [
    "from fractions import Fraction\n",
    "\n",
    "resNum = 1\n",
    "resDen = 1\n",
    "\n",
    "print('The four fractions are:')\n",
    "\n",
    "# 10 <= numerator <= 99\n",
    "for numerator in range(10, 99):\n",
    "\n",
    "    # 11 <= denominator <= 100 so that fraction < 1\n",
    "    for denominator in range(numerator+1, 100):\n",
    "        \n",
    "        # Exclude trivial cases\n",
    "        if numerator % 10 == 0 and denominator % 10 == 0:\n",
    "            continue\n",
    "\n",
    "        numList = list(str(numerator))\n",
    "        denList = list(str(denominator))\n",
    "\n",
    "        # Test if any digit in the numerator is in the denominator\n",
    "        for num in numList:\n",
    "            if num in denList:\n",
    "\n",
    "                division1 = numerator / denominator\n",
    "\n",
    "                # If so, remove the digit from both\n",
    "                n = int(str(numerator).replace(num, '', 1))\n",
    "                d = int(str(denominator).replace(num, '', 1))\n",
    "\n",
    "                # Exclude cases where the denominator is now equal to 0\n",
    "                if d == 0:\n",
    "                    continue\n",
    "\n",
    "                division2 = n / d\n",
    "\n",
    "                # Check if the value of the fraction before the removal == value of the fraction after the removal\n",
    "                if division1 == division2:\n",
    "                    print(f'{numerator}/{denominator}')\n",
    "                    resNum *= numerator\n",
    "                    resDen *= denominator\n",
    "                    break\n",
    "\n",
    "resFraction = Fraction(resNum, resDen)\n",
    "print(f'The value of the denominator for the product of these four fractions in its lowest common terms is {resFraction.denominator}.')"
   ]
  },
  {
   "attachments": {},
   "cell_type": "markdown",
   "metadata": {},
   "source": [
    "4. \n",
    "\n",
    "145 is a curious number, as 1! + 4! + 5! = 1 + 24 + 120 = 145.\n",
    "\n",
    "Find the sum of all numbers which are equal to the sum of the factorial of their digits.\n",
    "\n",
    "Note: As 1! = 1 and 2! = 2 are not sums they are not included.\n"
   ]
  },
  {
   "cell_type": "code",
   "execution_count": 35,
   "metadata": {},
   "outputs": [
    {
     "name": "stdout",
     "output_type": "stream",
     "text": [
      "The numbers which are equal to the sum of the factorial of their digits (factorions) are:\n",
      "145\n",
      "40585\n",
      "The sum of these is: 40730.\n"
     ]
    }
   ],
   "source": [
    "def factorial(n: int):\n",
    "    if n == 1 or n == 0:\n",
    "        return 1\n",
    "    else:\n",
    "        return n * factorial(n-1)\n",
    "\n",
    "# Compute sum\n",
    "def factorialsSum(number):\n",
    "    lst = list(str(number))\n",
    "    sum = 0\n",
    "    for n in lst:\n",
    "        sum += factorialDict[int(n)]\n",
    "    return sum\n",
    "\n",
    "# Store values of the factorials of all digits to avoid calculating them over and over again\n",
    "factorialDict = {}\n",
    "for number in range(10):\n",
    "    factorialDict[number] = factorial(number)\n",
    "\n",
    "# First 9 numbers are excluded as they are single digit numbers and so they are not sums\n",
    "num = 10\n",
    "total = 0\n",
    "\n",
    "print('The numbers which are equal to the sum of the factorial of their digits (factorions) are:')\n",
    "\n",
    "#  The sum of the factorials of an n digit number can't exceed n x 9! so that all factorions have at most 7 digits\n",
    "while len(str(num)) < 7:\n",
    "    sum = factorialsSum(num)\n",
    "    if sum == num:\n",
    "        total += num\n",
    "        print(num)\n",
    "    num += 1\n",
    "\n",
    "print(f'The sum of these is: {total}.')"
   ]
  },
  {
   "attachments": {},
   "cell_type": "markdown",
   "metadata": {},
   "source": [
    "5. \n",
    "\n",
    "The number, 197, is called a circular prime because all rotations of the digits: 197, 971, and 719, are themselves prime.\n",
    "\n",
    "There are thirteen such primes below 100: 2, 3, 5, 7, 11, 13, 17, 31, 37, 71, 73, 79, and 97.\n",
    "\n",
    "How many circular primes are there below one million?\n"
   ]
  },
  {
   "cell_type": "code",
   "execution_count": null,
   "metadata": {},
   "outputs": [],
   "source": []
  }
 ],
 "metadata": {
  "kernelspec": {
   "display_name": "Python 3",
   "language": "python",
   "name": "python3"
  },
  "language_info": {
   "codemirror_mode": {
    "name": "ipython",
    "version": 3
   },
   "file_extension": ".py",
   "mimetype": "text/x-python",
   "name": "python",
   "nbconvert_exporter": "python",
   "pygments_lexer": "ipython3",
   "version": "3.9.13"
  },
  "orig_nbformat": 4
 },
 "nbformat": 4,
 "nbformat_minor": 2
}
