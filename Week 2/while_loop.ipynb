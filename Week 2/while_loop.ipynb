{
 "cells": [
  {
   "attachments": {},
   "cell_type": "markdown",
   "metadata": {},
   "source": [
    "1. Create a while loop that repeatedly takes user input and adds the input to a list until the user enters \"done\"."
   ]
  },
  {
   "cell_type": "code",
   "execution_count": null,
   "metadata": {},
   "outputs": [],
   "source": [
    "lst = []\n",
    "\n",
    "# Asks user for input and adds the input to a list\n",
    "while True:\n",
    "    text = input('Please input a list of strings separated by spaces:\\n')\n",
    "    if text.lower() == 'done':\n",
    "        break\n",
    "    else:\n",
    "        lst.append(text)"
   ]
  },
  {
   "attachments": {},
   "cell_type": "markdown",
   "metadata": {},
   "source": [
    "2. Create a while loop that generates random numbers and adds them to a list until the sum of all numbers in the list is greater than 100."
   ]
  },
  {
   "cell_type": "code",
   "execution_count": 3,
   "metadata": {},
   "outputs": [
    {
     "name": "stdout",
     "output_type": "stream",
     "text": [
      "[13, 14, 27, 11, 42]\n"
     ]
    }
   ],
   "source": [
    "import random\n",
    "\n",
    "sum = 0\n",
    "lst = []\n",
    "\n",
    "while True:\n",
    "    number = random.randint(0, 50)\n",
    "    lst.append(number)\n",
    "    sum += number\n",
    "    if sum > 100:\n",
    "        break\n",
    "        \n",
    "print(lst)"
   ]
  },
  {
   "attachments": {},
   "cell_type": "markdown",
   "metadata": {},
   "source": [
    "3. Create a while loop that repeatedly takes user input and appends it to a list, but only if the input is a unique string."
   ]
  },
  {
   "cell_type": "code",
   "execution_count": 7,
   "metadata": {},
   "outputs": [
    {
     "name": "stdout",
     "output_type": "stream",
     "text": [
      "\u001b[91masd is not a unique string.\u001b[0m\n",
      "\u001b[91mgrtfh is not a unique string.\u001b[0m\n",
      "\u001b[92mDone!\u001b[0m\n",
      "['asd', 'dfg', 'grthg', 'grtfh']\n"
     ]
    }
   ],
   "source": [
    "# Changes the colour of text to red and then back to the default colour\n",
    "def printError(error):\n",
    "    print(f'{FAIL}{error}{ENDC}')\n",
    "\n",
    "FAIL = '\\033[91m'\n",
    "ENDC = '\\033[0m'\n",
    "OKGREEN = '\\033[92m'\n",
    "\n",
    "lst = []\n",
    "\n",
    "# Asks user for input and adds the input to a list if the input is unique\n",
    "while True:\n",
    "    text = input('Please input a unique string:\\n')\n",
    "    \n",
    "    if text.lower() == 'done':\n",
    "        print(f'{OKGREEN}Done!{ENDC}')\n",
    "        break\n",
    "\n",
    "    isUnique = True\n",
    "    for string in lst:\n",
    "        if text == string:\n",
    "            printError(f'{text} is not a unique string.')\n",
    "            isUnique = False\n",
    "            break\n",
    "\n",
    "    if isUnique:\n",
    "        lst.append(text)\n",
    "\n",
    "print(lst)"
   ]
  },
  {
   "attachments": {},
   "cell_type": "markdown",
   "metadata": {},
   "source": [
    "4. Create a while loop that repeatedly takes user input and appends it to a list, but only if the input is a number greater than 10."
   ]
  },
  {
   "cell_type": "code",
   "execution_count": 1,
   "metadata": {},
   "outputs": [
    {
     "name": "stdout",
     "output_type": "stream",
     "text": [
      "\u001b[91m5 is not a number greater than 10.\u001b[0m\n",
      "\u001b[91m8 is not a number greater than 10.\u001b[0m\n",
      "\u001b[92mDone!\u001b[0m\n",
      "['11', '12', '15']\n"
     ]
    }
   ],
   "source": [
    "# Changes the colour of text to red and then back to the default colour\n",
    "def printError(error):\n",
    "    print(f'{FAIL}{error}{ENDC}')\n",
    "\n",
    "FAIL = '\\033[91m'\n",
    "ENDC = '\\033[0m'\n",
    "OKGREEN = '\\033[92m'\n",
    "\n",
    "lst = []\n",
    "\n",
    "# Asks user for input and adds the input to a list if the input is > 10\n",
    "while True:\n",
    "    text = input('Please input a number greater than 10:\\n')\n",
    "    \n",
    "    if text.lower() == 'done':\n",
    "        print(f'{OKGREEN}Done!{ENDC}')\n",
    "        break\n",
    "    \n",
    "    try:\n",
    "        number = float(text)\n",
    "    except ValueError:\n",
    "        printError(f'{text} is not a number.')\n",
    "\n",
    "    if number < 10:\n",
    "        printError(f'{text} is not a number greater than 10.')\n",
    "    else:\n",
    "        lst.append(text)\n",
    "     \n",
    "print(lst)"
   ]
  },
  {
   "attachments": {},
   "cell_type": "markdown",
   "metadata": {},
   "source": [
    "5. Create a while loop that repeatedly takes user input and keeps track of the highest number entered until the user enters \"done\"."
   ]
  },
  {
   "cell_type": "code",
   "execution_count": 3,
   "metadata": {},
   "outputs": [
    {
     "name": "stdout",
     "output_type": "stream",
     "text": [
      "The highest number that has been entered is 30.0\n",
      "The highest number that has been entered is 30.0\n",
      "The highest number that has been entered is 50.0\n",
      "The highest number that has been entered is 50.0\n",
      "The highest number that has been entered is 123.0\n",
      "\u001b[92mDone!\u001b[0m\n"
     ]
    }
   ],
   "source": [
    "# Changes the colour of text to red and then back to the default colour\n",
    "def printError(error):\n",
    "    print(f'{FAIL}{error}{ENDC}')\n",
    "\n",
    "FAIL = '\\033[91m'\n",
    "ENDC = '\\033[0m'\n",
    "OKGREEN = '\\033[92m'\n",
    "\n",
    "lst = []\n",
    "# Asks user for input and \n",
    "while True:\n",
    "    text = input('Please input a number:\\n')\n",
    "    \n",
    "    if text.lower() == 'done':\n",
    "        print(f'{OKGREEN}Done!{ENDC}')\n",
    "        break\n",
    "\n",
    "    try:\n",
    "        number = float(text)\n",
    "    except ValueError:\n",
    "        printError(f'{text} is not a number.')\n",
    "\n",
    "    lst.append(number)\n",
    "    print(f'The highest number that has been entered is {max(lst)}')"
   ]
  }
 ],
 "metadata": {
  "kernelspec": {
   "display_name": "Python 3",
   "language": "python",
   "name": "python3"
  },
  "language_info": {
   "codemirror_mode": {
    "name": "ipython",
    "version": 3
   },
   "file_extension": ".py",
   "mimetype": "text/x-python",
   "name": "python",
   "nbconvert_exporter": "python",
   "pygments_lexer": "ipython3",
   "version": "3.9.13"
  },
  "orig_nbformat": 4
 },
 "nbformat": 4,
 "nbformat_minor": 2
}
