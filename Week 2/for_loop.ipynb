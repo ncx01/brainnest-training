{
 "cells": [
  {
   "attachments": {},
   "cell_type": "markdown",
   "metadata": {},
   "source": [
    "1. Create a for loop that iterates through a list of strings and prints each string in uppercase."
   ]
  },
  {
   "cell_type": "code",
   "execution_count": 15,
   "metadata": {},
   "outputs": [
    {
     "name": "stdout",
     "output_type": "stream",
     "text": [
      "APPLE\n",
      "BANANA\n",
      "CHERRY\n"
     ]
    }
   ],
   "source": [
    "fruits = [\"apple\", \"banana\", \"cherry\"]\n",
    "for string in fruits:\n",
    "  print(string.upper())"
   ]
  },
  {
   "attachments": {},
   "cell_type": "markdown",
   "metadata": {},
   "source": [
    "2. Create a for loop that iterates through a list of numbers and prints the square of each number."
   ]
  },
  {
   "cell_type": "code",
   "execution_count": 1,
   "metadata": {},
   "outputs": [
    {
     "name": "stdout",
     "output_type": "stream",
     "text": [
      "2916.0\n",
      "1849.0\n",
      "6094.924899999999\n"
     ]
    }
   ],
   "source": [
    "numberList = ['54', 43, 78.07]\n",
    "\n",
    "FAIL = '\\033[91m'\n",
    "ENDC = '\\033[0m'\n",
    "\n",
    "for number in numberList:\n",
    "    try:\n",
    "        square = float(number)**2\n",
    "        print(square)\n",
    "    except TypeError:\n",
    "        print(f'{FAIL}At least one of the entries in the list was not a number.{ENDC}')"
   ]
  },
  {
   "attachments": {},
   "cell_type": "markdown",
   "metadata": {},
   "source": [
    "3. Create a for loop that iterates through a list of dictionaries and prints the value of a specified key for each dictionary."
   ]
  },
  {
   "cell_type": "code",
   "execution_count": 5,
   "metadata": {},
   "outputs": [
    {
     "name": "stdout",
     "output_type": "stream",
     "text": [
      "The value of the model key in the dictionaries are: \n",
      "Duster\n",
      "Zoe\n"
     ]
    }
   ],
   "source": [
    "dictionaryList = [{\"brand\": \"Dacia\", \"model\": \"Duster\", \"year\": 2016}, {\"brand\": \"Renault\", \"model\": \"Zoe\", \"year\": 2022}]\n",
    "key = 'model'\n",
    "\n",
    "FAIL = '\\033[91m'\n",
    "ENDC = '\\033[0m'\n",
    "\n",
    "print(f'The value of the {key} key in the dictionaries are: ')\n",
    "\n",
    "for dictionary in dictionaryList:\n",
    "    try:\n",
    "        print(dictionary[key])\n",
    "    except KeyError:\n",
    "        print(f'{FAIL}The {key} key does not exist one of the dictionaries.{ENDC}')"
   ]
  },
  {
   "attachments": {},
   "cell_type": "markdown",
   "metadata": {},
   "source": [
    "4. Create a for loop that iterates through a list of numbers and prints the largest number in the list."
   ]
  },
  {
   "cell_type": "code",
   "execution_count": 12,
   "metadata": {},
   "outputs": [
    {
     "name": "stdout",
     "output_type": "stream",
     "text": [
      "The largest number in the given list is 3.0.\n"
     ]
    }
   ],
   "source": [
    "FAIL = '\\033[91m'\n",
    "ENDC = '\\033[0m'\n",
    "\n",
    "numbers = ['-2', -166, -8, -15, 3]\n",
    "max = -float(\"inf\")\n",
    "\n",
    "for num in numbers:\n",
    "    try:\n",
    "        if max < float(num):\n",
    "            max = float(num)\n",
    "    except ValueError:\n",
    "        print(f'{FAIL}{num} is not a number.{ENDC}')\n",
    "\n",
    "print(f'The largest number in the given list is {max}.')\n"
   ]
  },
  {
   "attachments": {},
   "cell_type": "markdown",
   "metadata": {},
   "source": [
    "5. Create a for loop that iterates through a list of lists and prints the sum of the elements in each sub-list."
   ]
  },
  {
   "cell_type": "code",
   "execution_count": 14,
   "metadata": {},
   "outputs": [
    {
     "name": "stdout",
     "output_type": "stream",
     "text": [
      "The sums of the elements in each list are: \n",
      "-339\n",
      "207\n",
      "116\n"
     ]
    }
   ],
   "source": [
    "listOfLists = [[-150, -166, -8, -15], [33, 76, 98], [123, -23, -67, 83]]\n",
    "\n",
    "FAIL = '\\033[91m'\n",
    "ENDC = '\\033[0m'\n",
    "\n",
    "print('The sums of the elements in each list are: ')\n",
    "for list in listOfLists:\n",
    "    try:\n",
    "        print(sum(list))\n",
    "    except TypeError:\n",
    "        print(f'{FAIL}One of the entries in the lists is not a number.{ENDC}')"
   ]
  }
 ],
 "metadata": {
  "kernelspec": {
   "display_name": "Python 3",
   "language": "python",
   "name": "python3"
  },
  "language_info": {
   "codemirror_mode": {
    "name": "ipython",
    "version": 3
   },
   "file_extension": ".py",
   "mimetype": "text/x-python",
   "name": "python",
   "nbconvert_exporter": "python",
   "pygments_lexer": "ipython3",
   "version": "3.9.13"
  },
  "orig_nbformat": 4
 },
 "nbformat": 4,
 "nbformat_minor": 2
}
