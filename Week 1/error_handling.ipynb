{
 "cells": [
  {
   "attachments": {},
   "cell_type": "markdown",
   "metadata": {},
   "source": [
    "1. Write a function that takes a list of integers as an argument, and returns the sum of the integers. Use a try-except block to catch any ValueError exceptions that may be raised when attempting to convert a string to an integer."
   ]
  },
  {
   "cell_type": "code",
   "execution_count": 3,
   "metadata": {},
   "outputs": [
    {
     "name": "stdout",
     "output_type": "stream",
     "text": [
      "The sum of the integers in the list [5, 6, 8, 11, 23, 46, 57] is 156.\n"
     ]
    }
   ],
   "source": [
    "# Changes the colour of text to red and then back to the default colour\n",
    "def printError(error):\n",
    "    print(f'{FAIL}{error}{ENDC}')\n",
    "\n",
    "# Computes sum of even numbers in inputted list of numbers\n",
    "def evenSum(lst):\n",
    "    sum = 0\n",
    "    for num in lst:\n",
    "        sum += num\n",
    "    print(f'The sum of the integers in the list {lst} is {sum}.')\n",
    "\n",
    "FAIL = '\\033[91m'\n",
    "ENDC = '\\033[0m'\n",
    "\n",
    "# Asks user for input for a list of integers in the form of 'int1 int2 int3'\n",
    "while True:\n",
    "    try:\n",
    "        lst = [int(x) for x in input('Please input a list of integers separated by spaces:\\n').split()]\n",
    "        break\n",
    "    except ValueError:\n",
    "        printError('Only integers are allowed.')\n",
    "\n",
    "evenSum(lst)"
   ]
  },
  {
   "attachments": {},
   "cell_type": "markdown",
   "metadata": {},
   "source": [
    "2. Write a function that takes a filename as an argument, and attempts to open the file. Use a try-except block to catch any FileNotFoundError exceptions that may be raised when attempting to open the file. If the file is successfully opened, the function should return the contents of the file."
   ]
  },
  {
   "cell_type": "code",
   "execution_count": 4,
   "metadata": {},
   "outputs": [
    {
     "name": "stdout",
     "output_type": "stream",
     "text": [
      "Hello! Welcome to demofile.txt\n",
      "This file is for testing purposes.\n",
      "Good Luck!\n"
     ]
    }
   ],
   "source": [
    "# Changes the colour of text to red and then back to the default colour\n",
    "def printError(error):\n",
    "    print(f'{FAIL}{error}{ENDC}')\n",
    "\n",
    "# Opens, reads, and closes fileName\n",
    "def openFile(fileName):\n",
    "    file = open(fileName, 'r')\n",
    "    fileContent = print(file.read())\n",
    "    file.close()\n",
    "    return fileContent\n",
    "\n",
    "FAIL = '\\033[91m'\n",
    "ENDC = '\\033[0m'\n",
    "\n",
    "# Repeatedly ask user for filename and catch FileNotFoundError exceptions\n",
    "while True:\n",
    "    try:\n",
    "        fileName = input('Please input the name of the file:\\n')\n",
    "        openFile(fileName)\n",
    "        break\n",
    "    except FileNotFoundError:\n",
    "        printError('File was not found.')"
   ]
  },
  {
   "attachments": {},
   "cell_type": "markdown",
   "metadata": {},
   "source": [
    "3. Write a function that takes a list of strings as an argument, and returns a new list containing only the strings that can be successfully converted to a float. Use a try-except block to catch any ValueError exceptions that may be raised when attempting to convert a string to a float."
   ]
  },
  {
   "cell_type": "code",
   "execution_count": 7,
   "metadata": {},
   "outputs": [
    {
     "name": "stdout",
     "output_type": "stream",
     "text": [
      "\u001b[91mtest cannot be converted to a float.\u001b[0m\n",
      "The strings in the list that can be converted to a float are 19, 31, 24.\n"
     ]
    }
   ],
   "source": [
    "# Changes the colour of text to red and then back to the default colour\n",
    "def printError(error):\n",
    "    print(f'{FAIL}{error}{ENDC}')\n",
    "\n",
    "# Returns the strings that can be converted to a float as a list\n",
    "def getFloats(stringList):\n",
    "    floats =[]\n",
    "    for string in stringList:\n",
    "\n",
    "        # Catch ValueError exceptions when attempting to convert a string to a float\n",
    "        try:\n",
    "            float(string)\n",
    "            floats.append(string)\n",
    "        except ValueError:\n",
    "            printError(f'{string} cannot be converted to a float.')\n",
    "            \n",
    "    return floats\n",
    "\n",
    "FAIL = '\\033[91m'\n",
    "ENDC = '\\033[0m'\n",
    "\n",
    "lst = ['19', '31', 'test', '24']\n",
    "floatList = getFloats(lst)\n",
    "\n",
    "print(f'The strings in the list that can be converted to a float are {\", \".join(floatList)}.')"
   ]
  },
  {
   "attachments": {},
   "cell_type": "markdown",
   "metadata": {},
   "source": [
    "4. Write a function that takes a list of dictionaries as an argument, and returns the value of a specified key from each dictionary. Use a try-except block to catch any KeyError exceptions that may be raised when attempting to access a key that does not exist in a dictionary."
   ]
  },
  {
   "cell_type": "code",
   "execution_count": 8,
   "metadata": {},
   "outputs": [
    {
     "name": "stdout",
     "output_type": "stream",
     "text": [
      "The model values in the dictionaries are: Duster, Zoe.\n"
     ]
    }
   ],
   "source": [
    "# Returns the values of a specified key from each dictionary as a list\n",
    "def getDictionaryValue(dictionaryList, key):\n",
    "    keyValues = []\n",
    "    for dictionary in dictionaryList:\n",
    "\n",
    "        # Catch KeyError exceptions if key does not exist in dictionary\n",
    "        try:\n",
    "            keyValues.append(dictionary[key])\n",
    "        except KeyError:\n",
    "            print(f'{FAIL}The {key} key does not exist in one of the dictionaries.{ENDC}')\n",
    "\n",
    "    return keyValues\n",
    "\n",
    "FAIL = '\\033[91m'\n",
    "ENDC = '\\033[0m'\n",
    "\n",
    "cars = [{\"brand\": \"Dacia\", \"model\": \"Duster\", \"year\": 2016}, {\"brand\": \"Renault\", \"model\": \"Zoe\", \"year\": 2022}]\n",
    "key = 'model'\n",
    "\n",
    "result = getDictionaryValue(cars, key)\n",
    "\n",
    "print(f'The {key} values in the dictionaries are: {\", \".join(result)}.')"
   ]
  },
  {
   "attachments": {},
   "cell_type": "markdown",
   "metadata": {},
   "source": [
    "5. Write a function that takes a list of integers as an argument, and returns the largest integer in the list. Use a try-except block to catch any ValueError exceptions that may be raised when attempting to compare elements that are not integers."
   ]
  },
  {
   "cell_type": "code",
   "execution_count": 22,
   "metadata": {},
   "outputs": [
    {
     "name": "stdout",
     "output_type": "stream",
     "text": [
      "\u001b[91ma is not a number.\u001b[0m\n",
      "\u001b[91m-3.3 is not an integer.\u001b[0m\n",
      "The largest integer in the list -4, a, -3.3, 5, 7 is 7.\n"
     ]
    }
   ],
   "source": [
    "# Changes the colour of text to red and then back to the default colour\n",
    "def printError(error):\n",
    "    print(f'{FAIL}{error}{ENDC}')\n",
    "\n",
    "# Returns the largest integer in a list\n",
    "def largestInt(lst):\n",
    "    intList = []\n",
    "    for i in range(len(lst)):\n",
    "\n",
    "        # Catch ValueError exceptions if one of the elements in lst is not an integer or not a number at all\n",
    "        try:\n",
    "            string = lst[i]\n",
    "            if float(string).is_integer():\n",
    "                intList.append(int(string))\n",
    "            else:\n",
    "                printError(f'{lst[i]} is not an integer.')\n",
    "        except ValueError:\n",
    "            printError(f'{lst[i]} is not a number.')\n",
    "    \n",
    "    return max(intList)\n",
    "\n",
    "FAIL = '\\033[91m'\n",
    "ENDC = '\\033[0m'\n",
    "\n",
    "lst = ['-4', 'a', -3.3, 5, 7]\n",
    "result = largestInt(lst)\n",
    "\n",
    "# Join the list and separate elements which are converted to a string by \", \"\n",
    "print(f'The largest integer in the list {\", \".join([str(ele) for ele in lst])} is {result}.')"
   ]
  }
 ],
 "metadata": {
  "kernelspec": {
   "display_name": "Python 3",
   "language": "python",
   "name": "python3"
  },
  "language_info": {
   "codemirror_mode": {
    "name": "ipython",
    "version": 3
   },
   "file_extension": ".py",
   "mimetype": "text/x-python",
   "name": "python",
   "nbconvert_exporter": "python",
   "pygments_lexer": "ipython3",
   "version": "3.9.13"
  },
  "orig_nbformat": 4,
  "vscode": {
   "interpreter": {
    "hash": "f7a5be651532581cb44625d52e18aa1d390cab54bc6b51099d8c30bea9b68219"
   }
  }
 },
 "nbformat": 4,
 "nbformat_minor": 2
}
