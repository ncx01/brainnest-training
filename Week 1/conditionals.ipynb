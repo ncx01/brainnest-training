{
 "cells": [
  {
   "attachments": {},
   "cell_type": "markdown",
   "metadata": {},
   "source": [
    "1. Write a program that prompts the user for a string and checks whether the string is a palindrome (i.e., the string reads the same forward and backward)."
   ]
  },
  {
   "cell_type": "code",
   "execution_count": 1,
   "metadata": {},
   "outputs": [
    {
     "name": "stdout",
     "output_type": "stream",
     "text": [
      "\u001b[92mnurses run is a palindrome.\u001b[0m\n"
     ]
    }
   ],
   "source": [
    "def isPalindrome(s):\n",
    "    # Converts uppercase letters to lowercase letters\n",
    "    s = s.lower()\n",
    "\n",
    "    # Removes spaces in phrase\n",
    "    s = s.replace(' ', '')\n",
    "\n",
    "    # Checks if string == reversed string\n",
    "    return s == s[::-1]\n",
    "\n",
    "FAIL = '\\033[91m'\n",
    "ENDC = '\\033[0m'\n",
    "OKGREEN = '\\033[92m'\n",
    "\n",
    "# Get the phrase from the user\n",
    "phrase = input('Please enter a word or phrase:\\n')\n",
    "if isPalindrome(phrase):\n",
    "    print(f'{OKGREEN}{phrase} is a palindrome.{ENDC}')\n",
    "else:\n",
    "    print(f'{FAIL}{phrase} is not a palindrome.{ENDC}')"
   ]
  },
  {
   "attachments": {},
   "cell_type": "markdown",
   "metadata": {},
   "source": [
    "2. Write a program that takes in a list of integers and returns the sum of all even numbers in the list."
   ]
  },
  {
   "cell_type": "code",
   "execution_count": 2,
   "metadata": {},
   "outputs": [
    {
     "name": "stdout",
     "output_type": "stream",
     "text": [
      "The sum of the even numbers in the given list is 4.\n"
     ]
    }
   ],
   "source": [
    "lst = [3, 5, -6, 8, -2, 3, 4]    \n",
    "\n",
    "# Computes sum of even numbers in inputted list of numbers\n",
    "def evenSum(lst):\n",
    "    sum = 0\n",
    "    for num in lst:\n",
    "        if num % 2 == 0:\n",
    "            sum += num\n",
    "        else:\n",
    "            continue\n",
    "    print(f'The sum of the even numbers in the given list is {sum}.')\n",
    "\n",
    "evenSum(lst)"
   ]
  },
  {
   "attachments": {},
   "cell_type": "markdown",
   "metadata": {},
   "source": [
    "3. Write a program that prompts the user for their age and checks whether they are old enough to vote (i.e., 18 years old or older)."
   ]
  },
  {
   "cell_type": "code",
   "execution_count": 3,
   "metadata": {},
   "outputs": [
    {
     "name": "stdout",
     "output_type": "stream",
     "text": [
      "\u001b[92mYou are old enough to vote.\u001b[0m\n"
     ]
    }
   ],
   "source": [
    "# Changes the colour of text to red and then back to the default colour\n",
    "def printError(error):\n",
    "    print(f'{FAIL}{error}{ENDC}')\n",
    "\n",
    "FAIL = '\\033[91m'\n",
    "ENDC = '\\033[0m'\n",
    "OKGREEN = '\\033[92m'\n",
    "\n",
    "while True:\n",
    "    try:\n",
    "        age = int(input(\"Please enter your age:\\n\"))\n",
    "\n",
    "        # In case input is a negative number\n",
    "        if age < 0:\n",
    "            printError('Only positive numbers are allowed.')\n",
    "        else:\n",
    "            break\n",
    "    \n",
    "    # In case input is not a number\n",
    "    except ValueError:\n",
    "            printError('Only numbers are allowed.')\n",
    "\n",
    "if age >= 18:\n",
    "     print(f'{OKGREEN}You are old enough to vote.{ENDC}')\n",
    "else:\n",
    "    printError('You are not old enough to vote.')"
   ]
  },
  {
   "attachments": {},
   "cell_type": "markdown",
   "metadata": {},
   "source": [
    "4. Write a program that takes in a list of integers and returns the largest number in the list that is also divisible by 3."
   ]
  },
  {
   "cell_type": "code",
   "execution_count": 4,
   "metadata": {},
   "outputs": [
    {
     "name": "stdout",
     "output_type": "stream",
     "text": [
      "The largest number in the given list that is also divisible by three is 243.\n"
     ]
    }
   ],
   "source": [
    "lst = [3, 5, -16, 18, 24, 243, 48]    \n",
    "\n",
    "# Determines which numbers in the list are divisible by three and computes the maximum of those numbers\n",
    "def largestNum(lst):\n",
    "    workList = []\n",
    "    for num in lst:\n",
    "        if num % 3 == 0:\n",
    "            workList.append(num)\n",
    "\n",
    "    print('The largest number in the given list that is also divisible by three is {0}.'.format(max(workList)))\n",
    "\n",
    "largestNum(lst)"
   ]
  },
  {
   "attachments": {},
   "cell_type": "markdown",
   "metadata": {},
   "source": [
    "5. Write a program that prompts the user for a number and checks whether the number is a prime number (i.e., only divisible by 1 and itself)."
   ]
  },
  {
   "cell_type": "code",
   "execution_count": 7,
   "metadata": {},
   "outputs": [
    {
     "name": "stdout",
     "output_type": "stream",
     "text": [
      "2 is a prime number.\n"
     ]
    }
   ],
   "source": [
    "# Changes the colour of text to red and then back to the default colour\n",
    "def printError(error):\n",
    "    print(f'{FAIL}{error}{ENDC}')\n",
    "\n",
    "def isPrime(n):\n",
    "    \"\"\"Return True or False for if n is a prime number or not.\"\"\"\n",
    "    # This works since there is only one unique set of prime factors for any number\n",
    "    factorList = []               \n",
    "    factor = 2                         # The first possible factor.    \n",
    "    while n > 1:                       # While n still has remaining factors...\n",
    "        if n % factor == 0:            # The remainder of n divided by f might be zero.        \n",
    "            factorList.append(factor)  # If so, it divides n. Add f to the list.\n",
    "            n //= factor               # Divide that factor out of n.\n",
    "        else:                          # But if f is not a factor of n,\n",
    "            factor += 1                # Add one to f and try again.\n",
    "    return False if len(factorList ) > 1 else True\n",
    "\n",
    "FAIL = '\\033[91m'\n",
    "ENDC = '\\033[0m'\n",
    "OKGREEN = '\\033[92m'\n",
    "\n",
    "while True:\n",
    "    try:\n",
    "        number = int(input(\"Please enter a number greater than 1:\\n\"))\n",
    "        if number <= 1:\n",
    "            printError('Please enter a number greater than 1.')\n",
    "        else:\n",
    "            break\n",
    "    except ValueError:\n",
    "        printError('Please enter a valid number.')\n",
    "\n",
    "# If the number has no other factor aside from itself and 1, it is a prime number\n",
    "if isPrime(number):\n",
    "    print(f'{number} is a prime number.')\n",
    "else:\n",
    "    print(f'{number} is not a prime number.')"
   ]
  }
 ],
 "metadata": {
  "kernelspec": {
   "display_name": "Python 3",
   "language": "python",
   "name": "python3"
  },
  "language_info": {
   "codemirror_mode": {
    "name": "ipython",
    "version": 3
   },
   "file_extension": ".py",
   "mimetype": "text/x-python",
   "name": "python",
   "nbconvert_exporter": "python",
   "pygments_lexer": "ipython3",
   "version": "3.9.13"
  },
  "orig_nbformat": 4,
  "vscode": {
   "interpreter": {
    "hash": "f7a5be651532581cb44625d52e18aa1d390cab54bc6b51099d8c30bea9b68219"
   }
  }
 },
 "nbformat": 4,
 "nbformat_minor": 2
}
