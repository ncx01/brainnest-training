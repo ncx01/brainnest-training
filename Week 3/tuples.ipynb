{
 "cells": [
  {
   "attachments": {},
   "cell_type": "markdown",
   "metadata": {},
   "source": [
    "1. Write a function to find the most common elements in a tuple."
   ]
  },
  {
   "cell_type": "code",
   "execution_count": 9,
   "metadata": {},
   "outputs": [
    {
     "name": "stdout",
     "output_type": "stream",
     "text": [
      "The most common element(s) in the tuple (1, 'c', 2, 'a', 4, 5, 2, 'a', 'b') is/are 2, a.\n"
     ]
    }
   ],
   "source": [
    "tuple1 = (1, 'c', 2, 'a', 4, 5, 2, 'a', 'b')\n",
    "\n",
    "maxCount = float('-inf')\n",
    "maxElements = []\n",
    "\n",
    "# Determine what the maximum count of the elements in the tuple is\n",
    "for element in tuple1:\n",
    "    if tuple1.count(element) > maxCount:\n",
    "        maxCount = tuple1.count(element)\n",
    "\n",
    "# Place all elements which have the highest count in tuple1 into a list\n",
    "for element in tuple1:\n",
    "    if tuple1.count(element) == maxCount and str(element) not in maxElements:\n",
    "        maxElements.append(str(element))\n",
    "\n",
    "# Looks nicer when printed\n",
    "string = ', '.join(maxElements)\n",
    "\n",
    "print(f'The most common element(s) in the tuple {tuple1} is/are {string}.')"
   ]
  },
  {
   "attachments": {},
   "cell_type": "markdown",
   "metadata": {},
   "source": [
    "2. Write a function to check if a given tuple is a palindrome, meaning the elements are the same in reverse order."
   ]
  },
  {
   "cell_type": "code",
   "execution_count": 15,
   "metadata": {},
   "outputs": [
    {
     "name": "stdout",
     "output_type": "stream",
     "text": [
      "True\n"
     ]
    }
   ],
   "source": [
    "def isPalindrome(t : tuple):\n",
    "    return t == tuple(reversed(t))\n",
    "\n",
    "tuple1 = (1, 'a', 'a', 1)\n",
    "\n",
    "print(isPalindrome(tuple1))"
   ]
  },
  {
   "attachments": {},
   "cell_type": "markdown",
   "metadata": {},
   "source": [
    "3. Write a function to find the frequency of elements in a tuple, and return a dictionary mapping each element to its frequency."
   ]
  },
  {
   "cell_type": "code",
   "execution_count": 1,
   "metadata": {},
   "outputs": [
    {
     "name": "stdout",
     "output_type": "stream",
     "text": [
      "The frequency of the elements in the tuple in the form of element:frequency is:\n",
      "{1: 1, 'c': 1, 2: 2, 'a': 2, 4: 1, 5: 1, 'b': 1}\n"
     ]
    }
   ],
   "source": [
    "tuple1 = (1, 'c', 2, 'a', 4, 5, 2, 'a', 'b')\n",
    "\n",
    "def elementFrequency(t : tuple):\n",
    "    frequencyDict = dict()\n",
    "\n",
    "    # Determine what the count of the elements in the tuple is\n",
    "    for element in t:\n",
    "        if element not in frequencyDict:\n",
    "            frequencyDict[element] = t.count(element)\n",
    "\n",
    "    return frequencyDict\n",
    "\n",
    "frequency = elementFrequency(tuple1)\n",
    "\n",
    "print(f'The frequency of the elements in the tuple in the form of element:frequency is:\\n{frequency}')"
   ]
  },
  {
   "attachments": {},
   "cell_type": "markdown",
   "metadata": {},
   "source": [
    "4. Write a function that takes a tuple as an argument and returns a new tuple with only the even elements from the original tuple."
   ]
  },
  {
   "cell_type": "code",
   "execution_count": null,
   "metadata": {},
   "outputs": [],
   "source": []
  },
  {
   "attachments": {},
   "cell_type": "markdown",
   "metadata": {},
   "source": [
    "5. Write a function to find all unique elements in a tuple and return them in a new tuple."
   ]
  },
  {
   "cell_type": "code",
   "execution_count": null,
   "metadata": {},
   "outputs": [],
   "source": []
  }
 ],
 "metadata": {
  "kernelspec": {
   "display_name": "Python 3",
   "language": "python",
   "name": "python3"
  },
  "language_info": {
   "codemirror_mode": {
    "name": "ipython",
    "version": 3
   },
   "file_extension": ".py",
   "mimetype": "text/x-python",
   "name": "python",
   "nbconvert_exporter": "python",
   "pygments_lexer": "ipython3",
   "version": "3.9.13"
  },
  "orig_nbformat": 4,
  "vscode": {
   "interpreter": {
    "hash": "f7a5be651532581cb44625d52e18aa1d390cab54bc6b51099d8c30bea9b68219"
   }
  }
 },
 "nbformat": 4,
 "nbformat_minor": 2
}
