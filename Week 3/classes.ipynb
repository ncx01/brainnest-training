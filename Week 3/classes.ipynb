{
 "cells": [
  {
   "attachments": {},
   "cell_type": "markdown",
   "metadata": {},
   "source": [
    "1. Create a class called Rectangle that has attributes width and height. Add methods area and perimeter that calculate the area and perimeter of the rectangle, respectively."
   ]
  },
  {
   "cell_type": "code",
   "execution_count": 25,
   "metadata": {},
   "outputs": [
    {
     "name": "stdout",
     "output_type": "stream",
     "text": [
      "6\n",
      "The area of the rectangle is 30.\n",
      "The perimeter of the rectangle is 11.\n"
     ]
    }
   ],
   "source": [
    "class Rectangle:\n",
    "    def __init__(self, width, height) -> None:\n",
    "        self.width = width\n",
    "        self.height = height\n",
    "\n",
    "    def area(self):\n",
    "        return self.width*self.height\n",
    "        \n",
    "    def perimeter(self):\n",
    "        return self.width+self.height\n",
    "\n",
    "rectangle1 = Rectangle(5, 6)\n",
    "\n",
    "area = rectangle1.area()\n",
    "perimeter = rectangle1.perimeter()\n",
    "\n",
    "print(f'The area of the rectangle is {area}.')\n",
    "print(f'The perimeter of the rectangle is {perimeter}.')"
   ]
  },
  {
   "attachments": {},
   "cell_type": "markdown",
   "metadata": {},
   "source": [
    "2. Create a class called Circle that has attribute radius. Add methods area and circumference that calculate the area and circumference of the circle, respectively."
   ]
  },
  {
   "cell_type": "code",
   "execution_count": 4,
   "metadata": {},
   "outputs": [
    {
     "name": "stdout",
     "output_type": "stream",
     "text": [
      "The area of the circle is 50.27.\n",
      "The circumference of the circle is 25.13.\n"
     ]
    }
   ],
   "source": [
    "import math\n",
    "\n",
    "class Circle:\n",
    "    def __init__(self, radius) -> None:\n",
    "        self.radius = radius\n",
    "    \n",
    "    def area(self):\n",
    "        return math.pi *(self.radius**2)\n",
    "\n",
    "    def circumference(self):\n",
    "        return 2*math.pi*self.radius\n",
    "        \n",
    "circle1 = Circle(4)\n",
    "\n",
    "area = circle1.area()\n",
    "circumference = circle1.circumference()\n",
    "\n",
    "print(f'The area of the circle is {area:.2f}.')\n",
    "print(f'The circumference of the circle is {circumference:.2f}.')"
   ]
  },
  {
   "attachments": {},
   "cell_type": "markdown",
   "metadata": {},
   "source": [
    "3. Create a class called Car that has attributes make, model, and year. Add methods start and stop that simulate starting and stopping the car, respectively."
   ]
  },
  {
   "cell_type": "code",
   "execution_count": 18,
   "metadata": {},
   "outputs": [
    {
     "name": "stdout",
     "output_type": "stream",
     "text": [
      "Car has started!\n",
      "Car has stopped!\n"
     ]
    }
   ],
   "source": [
    "class Car:\n",
    "\n",
    "    started = None\n",
    "\n",
    "    def __init__(self, make, model, year) -> None:\n",
    "        self.make = make\n",
    "        self.model = model\n",
    "        self.year = year\n",
    "\n",
    "    def start(self):\n",
    "\n",
    "        # Prevent car from starting if it has already been started\n",
    "        if Car.started:\n",
    "            print('Car has already been started.')\n",
    "        else:\n",
    "            print('Car has started!')\n",
    "            Car.started = True\n",
    "\n",
    "    def stop(self):\n",
    "\n",
    "        # Prevent car from stopping if it has not been started yet\n",
    "        if Car.started:\n",
    "            print('Car has stopped!')\n",
    "            Car.started = False\n",
    "        else:\n",
    "            print('The car has not been started yet.')\n",
    "\n",
    "car1 = Car(\"BMW\", \"iX\", \"2021\")\n",
    "\n",
    "car1.start()\n",
    "car1.stop()"
   ]
  },
  {
   "attachments": {},
   "cell_type": "markdown",
   "metadata": {},
   "source": [
    "4. Create a class called Dice that has attribute sides (the number of sides on the dice). Add a method roll that generates a random number between 1 and the number of sides on the dice."
   ]
  },
  {
   "cell_type": "code",
   "execution_count": 23,
   "metadata": {},
   "outputs": [
    {
     "name": "stdout",
     "output_type": "stream",
     "text": [
      "You rolled a 1!\n"
     ]
    }
   ],
   "source": [
    "import random\n",
    "\n",
    "class Dice:\n",
    "    def __init__(self, sides) -> None:\n",
    "        self.sides = sides\n",
    "\n",
    "    def roll(self):\n",
    "        return random.randint(1, self.sides)\n",
    "\n",
    "dice1 = Dice(6)\n",
    "diceRoll = dice1.roll()\n",
    "\n",
    "print(f'You rolled a {diceRoll}!')"
   ]
  },
  {
   "attachments": {},
   "cell_type": "markdown",
   "metadata": {},
   "source": [
    "5. Create a class called Temperature that has attribute celsius (a temperature in degrees Celsius). Add methods to_fahrenheit and to_kelvin that convert the temperature to degrees Fahrenheit and Kelvin, respectively."
   ]
  },
  {
   "cell_type": "code",
   "execution_count": 29,
   "metadata": {},
   "outputs": [
    {
     "name": "stdout",
     "output_type": "stream",
     "text": [
      "23 degrees Celsius is equal to 73.4 degrees Fahrenheit or 296.15 degrees Kelvin.\n"
     ]
    }
   ],
   "source": [
    "class Temperature:\n",
    "    def __init__(self, celsius) -> None:\n",
    "        self.celsius = celsius\n",
    "    \n",
    "    def to_fahrenheit(self):\n",
    "        return (self.celsius * 9/5) + 32\n",
    "    \n",
    "    def to_kelvin(self):\n",
    "        return self.celsius + 273.15\n",
    "\n",
    "degreesCelsius = Temperature(23)\n",
    "\n",
    "degreesFahrenheit = degreesCelsius.to_fahrenheit()\n",
    "degreesKelvin = degreesCelsius.to_kelvin()\n",
    "\n",
    "print(f'{degreesCelsius.celsius} degrees Celsius is equal to {degreesFahrenheit} degrees Fahrenheit or {degreesKelvin} degrees Kelvin.')"
   ]
  },
  {
   "attachments": {},
   "cell_type": "markdown",
   "metadata": {},
   "source": [
    "6. Create a class called Book that has attributes title, author, and publication_year. Add a method get_age that calculates how many years ago the book was published."
   ]
  },
  {
   "cell_type": "code",
   "execution_count": 31,
   "metadata": {},
   "outputs": [
    {
     "name": "stdout",
     "output_type": "stream",
     "text": [
      "1984 was published 74 years ago.\n"
     ]
    }
   ],
   "source": [
    "class Book:\n",
    "    def __init__(self, title, author, publication_year) -> None:\n",
    "        self.title = title\n",
    "        self.author = author\n",
    "        self.publication_year = publication_year\n",
    "\n",
    "    def get_age(self, currentYear):\n",
    "        return currentYear - self.publication_year\n",
    "\n",
    "book1 = Book('1984', 'George Orwell', 1949)\n",
    "\n",
    "bookAge = book1.get_age(2023)\n",
    "\n",
    "print(f'{book1.title} was published {bookAge} years ago.')"
   ]
  },
  {
   "attachments": {},
   "cell_type": "markdown",
   "metadata": {},
   "source": [
    "7. Create a class called Rectangle that has attributes width and height. Add methods __str__ and __repr__ that return a string representation of the rectangle object."
   ]
  },
  {
   "cell_type": "code",
   "execution_count": 3,
   "metadata": {},
   "outputs": [
    {
     "name": "stdout",
     "output_type": "stream",
     "text": [
      "Rectangle with Width: 3; Height: 4\n"
     ]
    },
    {
     "data": {
      "text/plain": [
       "Rectangle(width = 3, height = 4)"
      ]
     },
     "execution_count": 3,
     "metadata": {},
     "output_type": "execute_result"
    }
   ],
   "source": [
    "class Rectangle:\n",
    "    def __init__(self, width, height) -> None:\n",
    "        self.width = width\n",
    "        self.height = height\n",
    "\n",
    "    def __str__(self):\n",
    "        return f'Rectangle with Width: {self.width}; Height: {self.height}'\n",
    "    \n",
    "    def __repr__(self):\n",
    "        return f'{self.__class__.__name__}(width = {self.width}, height = {self.height})'\n",
    "\n",
    "rectangle1 = Rectangle(3, 4)\n",
    "\n",
    "print(rectangle1)\n",
    "\n",
    "rectangle1"
   ]
  }
 ],
 "metadata": {
  "kernelspec": {
   "display_name": "Python 3",
   "language": "python",
   "name": "python3"
  },
  "language_info": {
   "codemirror_mode": {
    "name": "ipython",
    "version": 3
   },
   "file_extension": ".py",
   "mimetype": "text/x-python",
   "name": "python",
   "nbconvert_exporter": "python",
   "pygments_lexer": "ipython3",
   "version": "3.9.13"
  },
  "orig_nbformat": 4
 },
 "nbformat": 4,
 "nbformat_minor": 2
}
