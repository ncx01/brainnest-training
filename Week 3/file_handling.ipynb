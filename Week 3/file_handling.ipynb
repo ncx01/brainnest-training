{
 "cells": [
  {
   "attachments": {},
   "cell_type": "markdown",
   "metadata": {},
   "source": [
    "1. Write a Python program that reads a text file and prints the number of lines, words, and characters in the file."
   ]
  },
  {
   "cell_type": "code",
   "execution_count": 10,
   "metadata": {},
   "outputs": [
    {
     "name": "stdout",
     "output_type": "stream",
     "text": [
      "The number of lines in the file are: 2\n",
      "The number of words in the file are: 12\n",
      "The number of characters in the file are: 77\n"
     ]
    }
   ],
   "source": [
    "file = open(\"Test Files\\\\demofile.txt\", \"r\")\n",
    "lineList = file.readlines()\n",
    "file.close()\n",
    "\n",
    "fileContent = ' '.join(lineList)\n",
    "\n",
    "linesNumber = len(lineList)\n",
    "\n",
    "wordsList = fileContent.split(' ')    \n",
    "wordsNumber = len(wordsList)\n",
    "\n",
    "characterNumber = len(fileContent)\n",
    "\n",
    "print(f'The number of lines in the file are: {linesNumber}')\n",
    "print(f'The number of words in the file are: {wordsNumber}')\n",
    "print(f'The number of characters in the file are: {characterNumber}')"
   ]
  },
  {
   "attachments": {},
   "cell_type": "markdown",
   "metadata": {},
   "source": [
    "2. Write a Python program that reads a CSV file and converts it into a dictionary. Each row of the CSV file should be a key-value pair in the dictionary."
   ]
  },
  {
   "cell_type": "code",
   "execution_count": 4,
   "metadata": {},
   "outputs": [
    {
     "name": "stdout",
     "output_type": "stream",
     "text": [
      "[{'Month': 'JAN', '1958': '340', '1959': '360', '1960': '417'}, {'Month': 'FEB', '1958': '318', '1959': '342', '1960': '391'}, {'Month': 'MAR', '1958': '362', '1959': '406', '1960': '419'}, {'Month': 'APR', '1958': '348', '1959': '396', '1960': '461'}, {'Month': 'MAY', '1958': '363', '1959': '420', '1960': '472'}, {'Month': 'JUN', '1958': '435', '1959': '472', '1960': '535'}, {'Month': 'JUL', '1958': '491', '1959': '548', '1960': '622'}, {'Month': 'AUG', '1958': '505', '1959': '559', '1960': '606'}, {'Month': 'SEP', '1958': '404', '1959': '463', '1960': '508'}, {'Month': 'OCT', '1958': '359', '1959': '407', '1960': '461'}, {'Month': 'NOV', '1958': '310', '1959': '362', '1960': '390'}, {'Month': 'DEC', '1958': '337', '1959': '405', '1960': '432'}]\n"
     ]
    }
   ],
   "source": [
    "file = open(\"Test Files\\\\airtravel.csv\", \"r\")\n",
    "lineList = file.readlines()\n",
    "file.close()\n",
    "\n",
    "dictionary = dict()\n",
    "\n",
    "for i in range(len(lineList)):\n",
    "    lineList[i] = lineList[i].split(',')\n",
    "    lineList[i] = list(map(lambda x: x.replace('\"', '').replace(' ', '').replace('\\n', ''), lineList[i]))\n",
    "\n",
    "headers = lineList[0]\n",
    "\n",
    "lst = []\n",
    "for line in lineList[1:]:\n",
    "    for i in range(len(headers)):\n",
    "        dictionary[headers[i]] = line[i]\n",
    "    lst.append(dictionary.copy())\n",
    "    \n",
    "print(lst)"
   ]
  },
  {
   "attachments": {},
   "cell_type": "markdown",
   "metadata": {},
   "source": [
    "3. Write a Python program that reads a binary file and converts it into a hexadecimal string. The program should output the hexadecimal string to a text file."
   ]
  },
  {
   "cell_type": "code",
   "execution_count": 1,
   "metadata": {},
   "outputs": [],
   "source": [
    "import binascii\n",
    "\n",
    "file = 'Test Files\\\\test.bin'\n",
    "with open(file, 'rb') as f:\n",
    "    fileContent = f.read()\n",
    "\n",
    "string = binascii.hexlify(fileContent)\n",
    "string = string.decode(\"utf-8\")\n",
    "\n",
    "file = open(\"Test Files\\\\binary_output.txt\", \"w+\")\n",
    "file.write(string)\n",
    "file.close()"
   ]
  },
  {
   "attachments": {},
   "cell_type": "markdown",
   "metadata": {},
   "source": [
    "4. Write a Python program that reads a text file containing numbers and calculates the sum of all the numbers in the file."
   ]
  },
  {
   "cell_type": "code",
   "execution_count": 21,
   "metadata": {},
   "outputs": [
    {
     "name": "stdout",
     "output_type": "stream",
     "text": [
      "The sum of the numbers in the file is 5537376230390876637302048746832985971773659831892672.\n"
     ]
    }
   ],
   "source": [
    "file = open(\"Test Files\\\\numbers.txt\", \"r\")\n",
    "numberList = [int(line.replace('\\n', '')) for line in file]\n",
    "file.close()\n",
    "\n",
    "numberListSum = sum(numberList)\n",
    "\n",
    "print(f'The sum of the numbers in the file is {numberListSum}.')"
   ]
  },
  {
   "attachments": {},
   "cell_type": "markdown",
   "metadata": {},
   "source": [
    "5. Write a Python program that reads a text file and removes all the blank lines. The modified text should be written back to the file."
   ]
  },
  {
   "cell_type": "code",
   "execution_count": 15,
   "metadata": {},
   "outputs": [],
   "source": [
    "file = open(\"Test Files\\\\demofile.txt\", \"r\")\n",
    "lineList = file.readlines()\n",
    "file.close()\n",
    "\n",
    "string = ''\n",
    "for line in lineList:\n",
    "    if line == '\\n':\n",
    "        continue\n",
    "    else:\n",
    "        string += line\n",
    "\n",
    "file = open(\"Test Files\\\\demofile.txt\", \"w\")\n",
    "file.write(string)\n",
    "file.close()"
   ]
  }
 ],
 "metadata": {
  "kernelspec": {
   "display_name": "Python 3",
   "language": "python",
   "name": "python3"
  },
  "language_info": {
   "codemirror_mode": {
    "name": "ipython",
    "version": 3
   },
   "file_extension": ".py",
   "mimetype": "text/x-python",
   "name": "python",
   "nbconvert_exporter": "python",
   "pygments_lexer": "ipython3",
   "version": "3.9.13"
  },
  "orig_nbformat": 4
 },
 "nbformat": 4,
 "nbformat_minor": 2
}
