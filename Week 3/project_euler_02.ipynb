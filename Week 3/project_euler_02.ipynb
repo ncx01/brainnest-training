{
 "cells": [
  {
   "attachments": {},
   "cell_type": "markdown",
   "metadata": {},
   "source": [
    "1. \n",
    "\n",
    "Work out the first ten digits of the sum of the following one-hundred 50-digit numbers.\n",
    "\n",
    "37107287533902102798797998220837590246510135740250\n",
    "46376937677490009712648124896970078050417018260538\n",
    "74324986199524741059474233309513058123726617309629\n",
    "91942213363574161572522430563301811072406154908250\n",
    "23067588207539346171171980310421047513778063246676\n",
    "89261670696623633820136378418383684178734361726757\n",
    "28112879812849979408065481931592621691275889832738\n",
    "44274228917432520321923589422876796487670272189318\n",
    "47451445736001306439091167216856844588711603153276\n",
    "70386486105843025439939619828917593665686757934951\n",
    "62176457141856560629502157223196586755079324193331\n",
    "64906352462741904929101432445813822663347944758178\n",
    "92575867718337217661963751590579239728245598838407\n",
    "58203565325359399008402633568948830189458628227828\n",
    "80181199384826282014278194139940567587151170094390\n",
    "35398664372827112653829987240784473053190104293586\n",
    "86515506006295864861532075273371959191420517255829\n",
    "71693888707715466499115593487603532921714970056938\n",
    "54370070576826684624621495650076471787294438377604\n",
    "53282654108756828443191190634694037855217779295145\n",
    "36123272525000296071075082563815656710885258350721\n",
    "45876576172410976447339110607218265236877223636045\n",
    "17423706905851860660448207621209813287860733969412\n",
    "81142660418086830619328460811191061556940512689692\n",
    "51934325451728388641918047049293215058642563049483\n",
    "62467221648435076201727918039944693004732956340691\n",
    "15732444386908125794514089057706229429197107928209\n",
    "55037687525678773091862540744969844508330393682126\n",
    "18336384825330154686196124348767681297534375946515\n",
    "80386287592878490201521685554828717201219257766954\n",
    "78182833757993103614740356856449095527097864797581\n",
    "16726320100436897842553539920931837441497806860984\n",
    "48403098129077791799088218795327364475675590848030\n",
    "87086987551392711854517078544161852424320693150332\n",
    "59959406895756536782107074926966537676326235447210\n",
    "69793950679652694742597709739166693763042633987085\n",
    "41052684708299085211399427365734116182760315001271\n",
    "65378607361501080857009149939512557028198746004375\n",
    "35829035317434717326932123578154982629742552737307\n",
    "94953759765105305946966067683156574377167401875275\n",
    "88902802571733229619176668713819931811048770190271\n",
    "25267680276078003013678680992525463401061632866526\n",
    "36270218540497705585629946580636237993140746255962\n",
    "24074486908231174977792365466257246923322810917141\n",
    "91430288197103288597806669760892938638285025333403\n",
    "34413065578016127815921815005561868836468420090470\n",
    "23053081172816430487623791969842487255036638784583\n",
    "11487696932154902810424020138335124462181441773470\n",
    "63783299490636259666498587618221225225512486764533\n",
    "67720186971698544312419572409913959008952310058822\n",
    "95548255300263520781532296796249481641953868218774\n",
    "76085327132285723110424803456124867697064507995236\n",
    "37774242535411291684276865538926205024910326572967\n",
    "23701913275725675285653248258265463092207058596522\n",
    "29798860272258331913126375147341994889534765745501\n",
    "18495701454879288984856827726077713721403798879715\n",
    "38298203783031473527721580348144513491373226651381\n",
    "34829543829199918180278916522431027392251122869539\n",
    "40957953066405232632538044100059654939159879593635\n",
    "29746152185502371307642255121183693803580388584903\n",
    "41698116222072977186158236678424689157993532961922\n",
    "62467957194401269043877107275048102390895523597457\n",
    "23189706772547915061505504953922979530901129967519\n",
    "86188088225875314529584099251203829009407770775672\n",
    "11306739708304724483816533873502340845647058077308\n",
    "82959174767140363198008187129011875491310547126581\n",
    "97623331044818386269515456334926366572897563400500\n",
    "42846280183517070527831839425882145521227251250327\n",
    "55121603546981200581762165212827652751691296897789\n",
    "32238195734329339946437501907836945765883352399886\n",
    "75506164965184775180738168837861091527357929701337\n",
    "62177842752192623401942399639168044983993173312731\n",
    "32924185707147349566916674687634660915035914677504\n",
    "99518671430235219628894890102423325116913619626622\n",
    "73267460800591547471830798392868535206946944540724\n",
    "76841822524674417161514036427982273348055556214818\n",
    "97142617910342598647204516893989422179826088076852\n",
    "87783646182799346313767754307809363333018982642090\n",
    "10848802521674670883215120185883543223812876952786\n",
    "71329612474782464538636993009049310363619763878039\n",
    "62184073572399794223406235393808339651327408011116\n",
    "66627891981488087797941876876144230030984490851411\n",
    "60661826293682836764744779239180335110989069790714\n",
    "85786944089552990653640447425576083659976645795096\n",
    "66024396409905389607120198219976047599490197230297\n",
    "64913982680032973156037120041377903785566085089252\n",
    "16730939319872750275468906903707539413042652315011\n",
    "94809377245048795150954100921645863754710598436791\n",
    "78639167021187492431995700641917969777599028300699\n",
    "15368713711936614952811305876380278410754449733078\n",
    "40789923115535562561142322423255033685442488917353\n",
    "44889911501440648020369068063960672322193204149535\n",
    "41503128880339536053299340368006977710650566631954\n",
    "81234880673210146739058568557934581403627822703280\n",
    "82616570773948327592232845941706525094512325230608\n",
    "22918802058777319719839450180888072429661980811197\n",
    "77158542502016545090413245809786882778948721859617\n",
    "72107838435069186155435662884062257473692284509516\n",
    "20849603980134001723930671666823555245252804609722\n",
    "53503534226472524250874054075591789781264330331690"
   ]
  },
  {
   "cell_type": "code",
   "execution_count": 1,
   "metadata": {},
   "outputs": [
    {
     "name": "stdout",
     "output_type": "stream",
     "text": [
      "The first ten digits of the sum of the above numbers is 5, 5, 3, 7, 3, 7, 6, 2, 3, 0.\n"
     ]
    }
   ],
   "source": [
    "# numbers.txt containes the above list of numbers separated by \\n\n",
    "file = open(\"Test Files\\\\numbers.txt\", \"r\")\n",
    "\n",
    "# Convert the numbers in the file to a list of numbers\n",
    "numberList = [int(line.replace('\\n', '')) for line in file]\n",
    "file.close()\n",
    "\n",
    "numberListSum = str(sum(numberList))\n",
    "digits = list(numberListSum)\n",
    "\n",
    "print(f'The first ten digits of the sum of the above numbers is {\", \".join(digits[0:10])}.')\n"
   ]
  },
  {
   "attachments": {},
   "cell_type": "markdown",
   "metadata": {},
   "source": [
    "2. \n",
    "\n",
    "The following iterative sequence is defined for the set of positive integers:\n",
    "\n",
    "n → n/2 (n is even)\n",
    "n → 3n + 1 (n is odd)\n",
    "\n",
    "Using the rule above and starting with 13, we generate the following sequence:\n",
    "13 → 40 → 20 → 10 → 5 → 16 → 8 → 4 → 2 → 1\n",
    "\n",
    "It can be seen that this sequence (starting at 13 and finishing at 1) contains 10 terms. Although it has not been proved yet (Collatz Problem), it is thought that all starting numbers finish at 1.\n",
    "\n",
    "Which starting number, under one million, produces the longest chain?\n",
    "\n",
    "NOTE: Once the chain starts the terms are allowed to go above one million.\n"
   ]
  },
  {
   "cell_type": "code",
   "execution_count": 50,
   "metadata": {},
   "outputs": [
    {
     "name": "stdout",
     "output_type": "stream",
     "text": [
      "837799 produces the longest chain with a length of 525.\n"
     ]
    }
   ],
   "source": [
    "# If the sequence does not converge to 1 for every starting number under one million, the program will never finish iterating through the numbers.\n",
    "\n",
    "# Dictionary to store the values of the sequence length to avoid having to calculate them\n",
    "# from scratch everytime we start a new sequence, thus reducing the computation time\n",
    "dictionary = {}\n",
    "def sequenceLength(n: int):\n",
    "    '''Returns the length of the above sequence for a starting number n.'''\n",
    "\n",
    "    global dictionary\n",
    "\n",
    "    startingNumber = n\n",
    "    length = 1\n",
    "    \n",
    "    while n != 1:\n",
    "        \n",
    "        # If the key n is in the dictionary, we can simply get the mapped value containing the length\n",
    "        # of the sequence from n onwards\n",
    "        if n in dictionary:\n",
    "            # the -1 is used to avoid overcounting\n",
    "            length += dictionary[n]-1\n",
    "            n = 1\n",
    "\n",
    "        # Otherwise we calculate the length of the sequence as normal\n",
    "        elif n % 2 == 0:\n",
    "            n = n/2\n",
    "            length += 1\n",
    "\n",
    "        else:\n",
    "            n = 3*n + 1\n",
    "            length += 1\n",
    "\n",
    "    dictionary[startingNumber] = length\n",
    "\n",
    "    return length\n",
    "\n",
    "maxLength = 0\n",
    "finalStartingNumber = 1000000\n",
    "\n",
    "# Loop through every number up to 1000000 and find its sequence length while updating the maximum sequence length found\n",
    "for i in range(1, finalStartingNumber):\n",
    "    length = sequenceLength(i)\n",
    "    if maxLength < length:\n",
    "        maxLength = length\n",
    "        maxNumber = i\n",
    "\n",
    "print(f'{maxNumber} produces the longest chain with a length of {maxLength}.')"
   ]
  },
  {
   "attachments": {},
   "cell_type": "markdown",
   "metadata": {},
   "source": [
    "3. \n",
    "\n",
    "2^15 = 32768 and the sum of its digits is 3 + 2 + 7 + 6 + 8 = 26.\n",
    "\n",
    "What is the sum of the digits of the number 2^1000?\n"
   ]
  },
  {
   "cell_type": "code",
   "execution_count": 61,
   "metadata": {},
   "outputs": [
    {
     "name": "stdout",
     "output_type": "stream",
     "text": [
      "The sum of the digits of the number 2^1000 is 1366.\n"
     ]
    }
   ],
   "source": [
    "num = 2**1000\n",
    "\n",
    "digitList = [int(n) for n in list(str(num))]\n",
    "sumOfDigits = sum(digitList)\n",
    "\n",
    "print(f'The sum of the digits of the number 2^1000 is {sumOfDigits}.')"
   ]
  },
  {
   "attachments": {},
   "cell_type": "markdown",
   "metadata": {},
   "source": [
    "4. \n",
    "\n",
    "If the numbers 1 to 5 are written out in words: one, two, three, four, five, then there are 3 + 3 + 5 + 4 + 4 = 19 letters used in total.\n",
    "\n",
    "If all the numbers from 1 to 1000 (one thousand) inclusive were written out in words, how many letters would be used?\n",
    "\n",
    "NOTE: Do not count spaces or hyphens. For example, 342 (three hundred and forty-two) contains 23 letters and 115 (one hundred and fifteen) contains 20 letters. The use of \"and\" when writing out numbers is in compliance with British usage.\n"
   ]
  },
  {
   "cell_type": "code",
   "execution_count": 1,
   "metadata": {},
   "outputs": [
    {
     "name": "stdout",
     "output_type": "stream",
     "text": [
      "The amount of letters in the numbers from 1 to 1000, excluding spaces and hyphens, is 21124.\n"
     ]
    }
   ],
   "source": [
    "from num2words import num2words\n",
    "\n",
    "# Produce a list containing all the numbers from 1 to 1000 written out in words\n",
    "# excluding spaces and hyphens\n",
    "numberList = [num2words(n).replace(' ', '').replace('-', '') for n in range(1, 1001)]\n",
    "letterCount = 0\n",
    "\n",
    "# Loop through every element in numberlist and count the letters in each one\n",
    "for word in numberList:\n",
    "    letterCount += len(list(word))\n",
    "\n",
    "print(f'The amount of letters in the numbers from 1 to 1000, excluding spaces and hyphens, is {letterCount}.')"
   ]
  },
  {
   "attachments": {},
   "cell_type": "markdown",
   "metadata": {},
   "source": [
    "5. \n",
    "\n",
    "You are given the following information, but you may prefer to do some research for yourself.\n",
    "\n",
    "    1 Jan 1900 was a Monday.\n",
    "    Thirty days has September,\n",
    "    April, June and November.\n",
    "    All the rest have thirty-one,\n",
    "    Saving February alone,\n",
    "    Which has twenty-eight, rain or shine.\n",
    "    And on leap years, twenty-nine.\n",
    "    A leap year occurs on any year evenly divisible by 4, but not on a century unless it is divisible by 400.\n",
    "\n",
    "How many Sundays fell on the first of the month during the twentieth century (1 Jan 1901 to 31 Dec 2000)?\n"
   ]
  },
  {
   "cell_type": "code",
   "execution_count": 40,
   "metadata": {},
   "outputs": [
    {
     "name": "stdout",
     "output_type": "stream",
     "text": [
      "171 Sundays fell on the first of a month during the twentieth century.\n"
     ]
    }
   ],
   "source": [
    "day = 0\n",
    "leapYear = False\n",
    "sundayCount = 0\n",
    "\n",
    "# List containing the days which correspond to the first day of a month\n",
    "# 0 = 1st of January\n",
    "# 32 = 1st of February\n",
    "daysInYear = [0, 32, 60, 91, 121, 152, 182, 213, 244, 274, 305, 335]\n",
    "daysInLeapYear = [0, 32, 61, 92, 122, 153, 183, 214, 245, 275, 306, 336]\n",
    "\n",
    "for year in range(1900, 2001):\n",
    "\n",
    "    # Check if year is a leap year\n",
    "    if year % 4 == 0:\n",
    "        leapYear = True\n",
    "    \n",
    "    # Loop through every day in the leap year\n",
    "    if leapYear:\n",
    "        while day < 366:\n",
    "\n",
    "            # Since day = 0 is a Monday (1 Jan 1900), we can get every Sunday by adding 7 to day\n",
    "            if day in daysInLeapYear:\n",
    "                sundayCount += 1\n",
    "            day += 7\n",
    "        \n",
    "        # Reset value of day for next year\n",
    "        # Carries the final Sunday over to next year if day exceeds 366\n",
    "        day -= 366\n",
    "\n",
    "    # Loop through every day in the year\n",
    "    else:\n",
    "        while day < 365:\n",
    "            \n",
    "            # Since day = 0 is a Sunday, we can get every other Sunday by adding 7 to day\n",
    "            if day in daysInYear:\n",
    "                sundayCount += 1\n",
    "            day += 7\n",
    "        \n",
    "        # Reset value of day for next year\n",
    "        # Carries the final Sunday over to next year if day exceeds 365\n",
    "        day -= 365\n",
    "    \n",
    "    # Reset count of Sundays since the range is from 1901 to 2000 which excludes 1900\n",
    "    if year == 1900:\n",
    "        sundayCount = 0\n",
    "\n",
    "print(f'{sundayCount} Sundays fell on the first of a month during the twentieth century.')"
   ]
  },
  {
   "attachments": {},
   "cell_type": "markdown",
   "metadata": {},
   "source": [
    "6. \n",
    "\n",
    "n! means n × (n − 1) × ... × 3 × 2 × 1\n",
    "\n",
    "For example, 10! = 10 × 9 × ... × 3 × 2 × 1 = 3628800,\n",
    "and the sum of the digits in the number 10! is 3 + 6 + 2 + 8 + 8 + 0 + 0 = 27.\n",
    "\n",
    "Find the sum of the digits in the number 100!\n"
   ]
  },
  {
   "cell_type": "code",
   "execution_count": 41,
   "metadata": {},
   "outputs": [
    {
     "name": "stdout",
     "output_type": "stream",
     "text": [
      "The sum of the digits of the number 100! is 648.\n"
     ]
    }
   ],
   "source": [
    "def factorial(n: int):\n",
    "    '''Returns the value of n!'''\n",
    "    if n == 1:\n",
    "        return 1\n",
    "    else:\n",
    "        return n * factorial(n-1)\n",
    "\n",
    "num = factorial(100)\n",
    "digitList = [int(n) for n in list(str(num))]\n",
    "sumOfDigits = sum(digitList)\n",
    "\n",
    "print(f'The sum of the digits of the number 100! is {sumOfDigits}.')"
   ]
  },
  {
   "attachments": {},
   "cell_type": "markdown",
   "metadata": {},
   "source": [
    "7. \n",
    "\n",
    "Let d(n) be defined as the sum of proper divisors of n (numbers less than n which divide evenly into n).\n",
    "If d(a) = b and d(b) = a, where a ≠ b, then a and b are an amicable pair and each of a and b are called amicable numbers.\n",
    "\n",
    "For example, the proper divisors of 220 are 1, 2, 4, 5, 10, 11, 20, 22, 44, 55 and 110; therefore d(220) = 284. The proper divisors of 284 are 1, 2, 4, 71 and 142; so d(284) = 220.\n",
    "\n",
    "Evaluate the sum of all the amicable numbers under 10000.\n"
   ]
  },
  {
   "cell_type": "code",
   "execution_count": 14,
   "metadata": {},
   "outputs": [
    {
     "name": "stdout",
     "output_type": "stream",
     "text": [
      "The sum of all the amicable numbers under 10000 is 80570.0.\n"
     ]
    }
   ],
   "source": [
    "def properDivisor(n: int):\n",
    "    '''Returns a list containing the factors that the number n has.'''\n",
    "    factorList = []\n",
    "           \n",
    "    factor = 2                        \n",
    "\n",
    "    # While n still has remaining factors\n",
    "    while factor < n / factor:                      \n",
    "\n",
    "        # The remainder of n divided by f might be zero.\n",
    "        if n % factor == 0:               \n",
    "\n",
    "            # If so, add the pairs of factors to the list.\n",
    "            factorList.append(factor) \n",
    "            factorList.append(n / factor)\n",
    "        factor += 1\n",
    "\n",
    "    # Add 1 as a factor to the list separately\n",
    "    factorList.append(1)\n",
    "\n",
    "    return factorList\n",
    "\n",
    "amicableSum = 0\n",
    "endPoint = 10000\n",
    "for number in range(1, endPoint):\n",
    "\n",
    "    # Calculate sum of divisors of number\n",
    "    sumOfDivisors = sum(properDivisor(number))\n",
    "\n",
    "    # If sumOfDivisors of number and number are an amicable pair, add these to amicableSum\n",
    "    if sum(properDivisor(sumOfDivisors)) == number:\n",
    "        amicableSum += number + sumOfDivisors\n",
    "    \n",
    "print(f'The sum of all the amicable numbers under {endPoint} is {amicableSum}.')"
   ]
  },
  {
   "attachments": {},
   "cell_type": "markdown",
   "metadata": {},
   "source": [
    "8. \n",
    "\n",
    "A perfect number is a number for which the sum of its proper divisors is exactly equal to the number. For example, the sum of the proper divisors of 28 would be 1 + 2 + 4 + 7 + 14 = 28, which means that 28 is a perfect number.\n",
    "\n",
    "A number n is called deficient if the sum of its proper divisors is less than n and it is called abundant if this sum exceeds n.\n",
    "\n",
    "As 12 is the smallest abundant number, 1 + 2 + 3 + 4 + 6 = 16, the smallest number that can be written as the sum of two abundant numbers is 24. By mathematical analysis, it can be shown that all integers greater than 28123 can be written as the sum of two abundant numbers. However, this upper limit cannot be reduced any further by analysis even though it is known that the greatest number that cannot be expressed as the sum of two abundant numbers is less than this limit.\n",
    "\n",
    "Find the sum of all the positive integers which cannot be written as the sum of two abundant numbers.\n"
   ]
  },
  {
   "cell_type": "code",
   "execution_count": 37,
   "metadata": {},
   "outputs": [
    {
     "name": "stdout",
     "output_type": "stream",
     "text": [
      "The sum of all the positive integers which cannot be written as the sum of two abundant numbers is 297549578.0.\n"
     ]
    }
   ],
   "source": [
    "import numpy as np\n",
    "\n",
    "def properDivisor(n: int):\n",
    "    '''Returns a list containing the proper divisors that the number n has.'''\n",
    "    factorList = []\n",
    "           \n",
    "    factor = 2                        \n",
    "\n",
    "    # While n still has remaining factors\n",
    "    while factor < n / factor:                      \n",
    "\n",
    "        # The remainder of n divided by f might be zero.\n",
    "        if n % factor == 0:               \n",
    "\n",
    "            # If so, add the pairs of factors to the list.\n",
    "            factorList.append(factor) \n",
    "            factorList.append(n / factor)\n",
    "        factor += 1\n",
    "\n",
    "    # Add 1 as a factor to the list separately\n",
    "    factorList.append(1)\n",
    "\n",
    "    return factorList\n",
    "\n",
    "# Make a list containing all of the abundant numbers below endNumber\n",
    "abundantNumbers = []\n",
    "endNumber = 28124\n",
    "for number in range(1, endNumber):\n",
    "    sumOfDivisors = sum(properDivisor(number))\n",
    "    if sumOfDivisors > number:\n",
    "        abundantNumbers.append(number)\n",
    "\n",
    "# List to hold all the numbers below endNumber which can be written as the sum of two abundant numbers\n",
    "sumOfTwoAbundantNumbers = []\n",
    "for i in abundantNumbers:\n",
    "    for j in abundantNumbers:\n",
    "\n",
    "        # To avoid overcounting, iterate up to the point where the two numbers (i and j) are equal, then break out of this loop\n",
    "        if i <= j:\n",
    "            sumOfTwoAbundantNumbers.append(i+j)\n",
    "        else:\n",
    "            break\n",
    "\n",
    "# Calculate the difference between (the sum of all the numbers below 28123) and \n",
    "# (the sum of all the numbers below 28123 which can be written as the sum of 2 abundant numbers)\n",
    "# as this gives the sum of all the positive integers which cannot be written as the sum of two abundant numbers\n",
    "lst = np.linspace(1, 28123, 28123)\n",
    "sumFinal = sum(lst) - sum(sumOfTwoAbundantNumbers)\n",
    "print(f'The sum of all the positive integers which cannot be written as the sum of two abundant numbers is {sumFinal}.')"
   ]
  },
  {
   "attachments": {},
   "cell_type": "markdown",
   "metadata": {},
   "source": [
    "9. \n",
    "\n",
    "A permutation is an ordered arrangement of objects. For example, 3124 is one possible permutation of the digits 1, 2, 3 and 4. If all of the permutations are listed numerically or alphabetically, we call it lexicographic order. The lexicographic permutations of 0, 1 and 2 are:\n",
    "\n",
    "012   021   102   120   201   210\n",
    "\n",
    "What is the millionth lexicographic permutation of the digits 0, 1, 2, 3, 4, 5, 6, 7, 8 and 9?\n"
   ]
  },
  {
   "cell_type": "code",
   "execution_count": 12,
   "metadata": {},
   "outputs": [
    {
     "name": "stdout",
     "output_type": "stream",
     "text": [
      "The millionth lexicographic permutation of the digits 0, 1, 2, 3, 4, 5, 6, 7, 8 and 9 is 2783915460.\n"
     ]
    }
   ],
   "source": [
    "from itertools import permutations\n",
    "\n",
    "def lexicographicPermutations(text: str):\n",
    "\n",
    "    # The permutation tuples are emitted in lexicographic order according to the order of the input iterable\n",
    "    # so as long as the input is sorted the permutations are in lexicographic order\n",
    "    sortedList = sorted(text)\n",
    "\n",
    "    p = permutations(''.join(sortedList))\n",
    "    return [''.join(permutation) for permutation in p]\n",
    "\n",
    "text = '0123456789'\n",
    "permutationNum = 1000000\n",
    "permutationList = lexicographicPermutations(text)\n",
    "\n",
    "print(f'The millionth lexicographic permutation of the digits 0, 1, 2, 3, 4, 5, 6, 7, 8 and 9 is {permutationList[permutationNum-1]}.')"
   ]
  },
  {
   "attachments": {},
   "cell_type": "markdown",
   "metadata": {},
   "source": [
    "10. \n",
    "\n",
    "A unit fraction contains 1 in the numerator. The decimal representation of the unit fractions with denominators 2 to 10 are given:\n",
    "\n",
    "    1/2\t= \t0.5\n",
    "    1/3\t= \t0.(3)\n",
    "    1/4\t= \t0.25\n",
    "    1/5\t= \t0.2\n",
    "    1/6\t= \t0.1(6)\n",
    "    1/7\t= \t0.(142857)\n",
    "    1/8\t= \t0.125\n",
    "    1/9\t= \t0.(1)\n",
    "    1/10\t= \t0.1 \n",
    "\n",
    "Where 0.1(6) means 0.166666..., and has a 1-digit recurring cycle. It can be seen that 1/7 has a 6-digit recurring cycle.\n",
    "\n",
    "Find the value of d < 1000 for which 1/d contains the longest recurring cycle in its decimal fraction part.\n"
   ]
  },
  {
   "cell_type": "code",
   "execution_count": 18,
   "metadata": {},
   "outputs": [
    {
     "name": "stdout",
     "output_type": "stream",
     "text": [
      "1/983 contains the longest recurring cycle in its decimal fraction part.\n"
     ]
    }
   ],
   "source": [
    "def fractionToDecimal(numerator, denominator):\n",
    " \n",
    "    # Initialize result\n",
    "    res = \"\"\n",
    " \n",
    "    # Create a map to store already seen remainders.\n",
    "    remainderDict = {}\n",
    " \n",
    "    # Find first remainder\n",
    "    remainder = numerator % denominator\n",
    " \n",
    "    # Keep finding remainder until either\n",
    "    # remainder becomes 0 or repeats\n",
    "    while remainder != 0 and remainder not in remainderDict:\n",
    " \n",
    "        # Store this remainder\n",
    "        remainderDict[remainder] = len(res)\n",
    " \n",
    "        # Multiply remainder with 10\n",
    "        remainder = remainder * 10\n",
    " \n",
    "        # Append remainder // denominator to result since this is the digit\n",
    "        res_part = remainder // denominator\n",
    "        res += str(res_part)\n",
    " \n",
    "        # Update remainder\n",
    "        remainder = remainder % denominator\n",
    " \n",
    "    if remainder == 0:\n",
    "        return \"\"\n",
    "    else:\n",
    "        return res[remainderDict[remainder]:]\n",
    "\n",
    "largestSequence = \"\"\n",
    "for denominator in range(3, 1001):\n",
    "    res = fractionToDecimal(1, denominator)\n",
    "    if len(largestSequence) < len(res):\n",
    "        largestSequence = res\n",
    "        d = denominator\n",
    "\n",
    "print(f'1/{d} contains the longest recurring cycle in its decimal fraction part.')"
   ]
  }
 ],
 "metadata": {
  "kernelspec": {
   "display_name": "Python 3",
   "language": "python",
   "name": "python3"
  },
  "language_info": {
   "codemirror_mode": {
    "name": "ipython",
    "version": 3
   },
   "file_extension": ".py",
   "mimetype": "text/x-python",
   "name": "python",
   "nbconvert_exporter": "python",
   "pygments_lexer": "ipython3",
   "version": "3.9.13"
  },
  "orig_nbformat": 4,
  "vscode": {
   "interpreter": {
    "hash": "f7a5be651532581cb44625d52e18aa1d390cab54bc6b51099d8c30bea9b68219"
   }
  }
 },
 "nbformat": 4,
 "nbformat_minor": 2
}
